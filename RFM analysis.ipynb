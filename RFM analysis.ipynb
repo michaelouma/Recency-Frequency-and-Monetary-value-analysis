{
 "cells": [
  {
   "cell_type": "markdown",
   "id": "0fde99a2-1253-4d38-9a9c-cb83d97442de",
   "metadata": {},
   "source": [
    "# Recency,Frequency and Monetary value analysis"
   ]
  },
  {
   "cell_type": "markdown",
   "id": "d0d8b84c-5677-4f67-b085-3d4612ab93c9",
   "metadata": {},
   "source": [
    "### Importing libraries"
   ]
  },
  {
   "cell_type": "code",
   "execution_count": 1,
   "id": "92ceba87-4d5f-459f-bd8a-c66d74f6be19",
   "metadata": {},
   "outputs": [],
   "source": [
    "import pandas as pd \n",
    "import datetime as dt \n",
    "import numpy as np\n",
    "import matplotlib.pyplot as plt"
   ]
  },
  {
   "cell_type": "markdown",
   "id": "815d5fd0-9b99-4faa-8a07-498b01b8bede",
   "metadata": {},
   "source": [
    "### Loading data"
   ]
  },
  {
   "cell_type": "code",
   "execution_count": 2,
   "id": "5f335025-64eb-4d02-a3cc-5971fdd6eb87",
   "metadata": {},
   "outputs": [
    {
     "data": {
      "text/html": [
       "<div>\n",
       "<style scoped>\n",
       "    .dataframe tbody tr th:only-of-type {\n",
       "        vertical-align: middle;\n",
       "    }\n",
       "\n",
       "    .dataframe tbody tr th {\n",
       "        vertical-align: top;\n",
       "    }\n",
       "\n",
       "    .dataframe thead th {\n",
       "        text-align: right;\n",
       "    }\n",
       "</style>\n",
       "<table border=\"1\" class=\"dataframe\">\n",
       "  <thead>\n",
       "    <tr style=\"text-align: right;\">\n",
       "      <th></th>\n",
       "      <th>CustomerID</th>\n",
       "      <th>PurchaseDate</th>\n",
       "      <th>TransactionAmount</th>\n",
       "      <th>ProductInformation</th>\n",
       "      <th>OrderID</th>\n",
       "      <th>Location</th>\n",
       "    </tr>\n",
       "  </thead>\n",
       "  <tbody>\n",
       "    <tr>\n",
       "      <th>0</th>\n",
       "      <td>8814</td>\n",
       "      <td>4/11/2023</td>\n",
       "      <td>943.31</td>\n",
       "      <td>Product C</td>\n",
       "      <td>890075</td>\n",
       "      <td>Tokyo</td>\n",
       "    </tr>\n",
       "    <tr>\n",
       "      <th>1</th>\n",
       "      <td>2188</td>\n",
       "      <td>4/11/2023</td>\n",
       "      <td>463.70</td>\n",
       "      <td>Product A</td>\n",
       "      <td>176819</td>\n",
       "      <td>London</td>\n",
       "    </tr>\n",
       "    <tr>\n",
       "      <th>2</th>\n",
       "      <td>4608</td>\n",
       "      <td>4/11/2023</td>\n",
       "      <td>80.28</td>\n",
       "      <td>Product A</td>\n",
       "      <td>340062</td>\n",
       "      <td>New York</td>\n",
       "    </tr>\n",
       "    <tr>\n",
       "      <th>3</th>\n",
       "      <td>2559</td>\n",
       "      <td>4/11/2023</td>\n",
       "      <td>221.29</td>\n",
       "      <td>Product A</td>\n",
       "      <td>239145</td>\n",
       "      <td>London</td>\n",
       "    </tr>\n",
       "    <tr>\n",
       "      <th>4</th>\n",
       "      <td>9482</td>\n",
       "      <td>4/11/2023</td>\n",
       "      <td>739.56</td>\n",
       "      <td>Product A</td>\n",
       "      <td>194545</td>\n",
       "      <td>Paris</td>\n",
       "    </tr>\n",
       "  </tbody>\n",
       "</table>\n",
       "</div>"
      ],
      "text/plain": [
       "   CustomerID PurchaseDate  TransactionAmount ProductInformation  OrderID  \\\n",
       "0        8814    4/11/2023             943.31          Product C   890075   \n",
       "1        2188    4/11/2023             463.70          Product A   176819   \n",
       "2        4608    4/11/2023              80.28          Product A   340062   \n",
       "3        2559    4/11/2023             221.29          Product A   239145   \n",
       "4        9482    4/11/2023             739.56          Product A   194545   \n",
       "\n",
       "   Location  \n",
       "0     Tokyo  \n",
       "1    London  \n",
       "2  New York  \n",
       "3    London  \n",
       "4     Paris  "
      ]
     },
     "execution_count": 2,
     "metadata": {},
     "output_type": "execute_result"
    }
   ],
   "source": [
    "df=pd.read_csv('C:/Users/ADMIN/OneDrive/Desktop/Mike/mydata/rfm_data.csv')\n",
    "df.head(5)"
   ]
  },
  {
   "cell_type": "code",
   "execution_count": 3,
   "id": "c82b73f5-14bd-4aab-9518-4fe75a270e3f",
   "metadata": {},
   "outputs": [
    {
     "name": "stdout",
     "output_type": "stream",
     "text": [
      "<class 'pandas.core.frame.DataFrame'>\n",
      "RangeIndex: 1000 entries, 0 to 999\n",
      "Data columns (total 6 columns):\n",
      " #   Column              Non-Null Count  Dtype  \n",
      "---  ------              --------------  -----  \n",
      " 0   CustomerID          1000 non-null   int64  \n",
      " 1   PurchaseDate        1000 non-null   object \n",
      " 2   TransactionAmount   1000 non-null   float64\n",
      " 3   ProductInformation  1000 non-null   object \n",
      " 4   OrderID             1000 non-null   int64  \n",
      " 5   Location            1000 non-null   object \n",
      "dtypes: float64(1), int64(2), object(3)\n",
      "memory usage: 47.0+ KB\n"
     ]
    }
   ],
   "source": [
    "df.info()"
   ]
  },
  {
   "cell_type": "code",
   "execution_count": 4,
   "id": "9f159d6f-16d7-429c-9c5b-2e855cfbfb31",
   "metadata": {},
   "outputs": [],
   "source": [
    "### changing the PurchaseDate to datetime \n",
    "df['PurchaseDate']=pd.to_datetime(df['PurchaseDate'])"
   ]
  },
  {
   "cell_type": "code",
   "execution_count": 5,
   "id": "7b2fcbcf-f84c-46f5-b697-b9c17ea63b8b",
   "metadata": {},
   "outputs": [
    {
     "data": {
      "text/plain": [
       "(1000, 6)"
      ]
     },
     "execution_count": 5,
     "metadata": {},
     "output_type": "execute_result"
    }
   ],
   "source": [
    "df.shape"
   ]
  },
  {
   "cell_type": "code",
   "execution_count": 6,
   "id": "742704ba-a01c-4a75-acf5-4c70559e0d22",
   "metadata": {},
   "outputs": [
    {
     "data": {
      "text/plain": [
       "CustomerID            0\n",
       "PurchaseDate          0\n",
       "TransactionAmount     0\n",
       "ProductInformation    0\n",
       "OrderID               0\n",
       "Location              0\n",
       "dtype: int64"
      ]
     },
     "execution_count": 6,
     "metadata": {},
     "output_type": "execute_result"
    }
   ],
   "source": [
    "df.isnull().sum()"
   ]
  },
  {
   "cell_type": "markdown",
   "id": "c13e5e84-d240-4b0b-b191-4a726d2df6ce",
   "metadata": {},
   "source": [
    "### Calculating Recency "
   ]
  },
  {
   "cell_type": "code",
   "execution_count": 7,
   "id": "2c6deb8c-f6e2-4ceb-a74c-16c039254e3b",
   "metadata": {},
   "outputs": [
    {
     "data": {
      "text/html": [
       "<div>\n",
       "<style scoped>\n",
       "    .dataframe tbody tr th:only-of-type {\n",
       "        vertical-align: middle;\n",
       "    }\n",
       "\n",
       "    .dataframe tbody tr th {\n",
       "        vertical-align: top;\n",
       "    }\n",
       "\n",
       "    .dataframe thead th {\n",
       "        text-align: right;\n",
       "    }\n",
       "</style>\n",
       "<table border=\"1\" class=\"dataframe\">\n",
       "  <thead>\n",
       "    <tr style=\"text-align: right;\">\n",
       "      <th></th>\n",
       "      <th>Customer</th>\n",
       "      <th>PurchaseDate</th>\n",
       "      <th>Recency</th>\n",
       "    </tr>\n",
       "  </thead>\n",
       "  <tbody>\n",
       "    <tr>\n",
       "      <th>0</th>\n",
       "      <td>1011</td>\n",
       "      <td>2023-05-08</td>\n",
       "      <td>33</td>\n",
       "    </tr>\n",
       "    <tr>\n",
       "      <th>1</th>\n",
       "      <td>1025</td>\n",
       "      <td>2023-05-20</td>\n",
       "      <td>21</td>\n",
       "    </tr>\n",
       "    <tr>\n",
       "      <th>2</th>\n",
       "      <td>1029</td>\n",
       "      <td>2023-06-10</td>\n",
       "      <td>0</td>\n",
       "    </tr>\n",
       "    <tr>\n",
       "      <th>3</th>\n",
       "      <td>1046</td>\n",
       "      <td>2023-04-28</td>\n",
       "      <td>43</td>\n",
       "    </tr>\n",
       "    <tr>\n",
       "      <th>4</th>\n",
       "      <td>1049</td>\n",
       "      <td>2023-05-28</td>\n",
       "      <td>13</td>\n",
       "    </tr>\n",
       "  </tbody>\n",
       "</table>\n",
       "</div>"
      ],
      "text/plain": [
       "   Customer PurchaseDate  Recency\n",
       "0      1011   2023-05-08       33\n",
       "1      1025   2023-05-20       21\n",
       "2      1029   2023-06-10        0\n",
       "3      1046   2023-04-28       43\n",
       "4      1049   2023-05-28       13"
      ]
     },
     "execution_count": 7,
     "metadata": {},
     "output_type": "execute_result"
    }
   ],
   "source": [
    "df_recency= df.groupby(by='CustomerID',as_index=False)['PurchaseDate'].max()\n",
    "df_recency.columns= ['Customer','PurchaseDate']\n",
    "recent_date=df_recency['PurchaseDate'].max()\n",
    "df_recency['Recency']=df_recency['PurchaseDate'].apply(lambda x :(recent_date-x).days)\n",
    "df_recency.head(5)"
   ]
  },
  {
   "cell_type": "markdown",
   "id": "58884885-87a0-4d2c-a020-1e5c1c4d1e2d",
   "metadata": {},
   "source": [
    "### Calculating Frequency"
   ]
  },
  {
   "cell_type": "code",
   "execution_count": 8,
   "id": "ad99d0d6-1165-4b45-9757-2645d0e7ef2d",
   "metadata": {},
   "outputs": [
    {
     "data": {
      "text/html": [
       "<div>\n",
       "<style scoped>\n",
       "    .dataframe tbody tr th:only-of-type {\n",
       "        vertical-align: middle;\n",
       "    }\n",
       "\n",
       "    .dataframe tbody tr th {\n",
       "        vertical-align: top;\n",
       "    }\n",
       "\n",
       "    .dataframe thead th {\n",
       "        text-align: right;\n",
       "    }\n",
       "</style>\n",
       "<table border=\"1\" class=\"dataframe\">\n",
       "  <thead>\n",
       "    <tr style=\"text-align: right;\">\n",
       "      <th></th>\n",
       "      <th>Customer</th>\n",
       "      <th>Frequency</th>\n",
       "    </tr>\n",
       "  </thead>\n",
       "  <tbody>\n",
       "    <tr>\n",
       "      <th>0</th>\n",
       "      <td>1011</td>\n",
       "      <td>2</td>\n",
       "    </tr>\n",
       "    <tr>\n",
       "      <th>1</th>\n",
       "      <td>1025</td>\n",
       "      <td>1</td>\n",
       "    </tr>\n",
       "    <tr>\n",
       "      <th>2</th>\n",
       "      <td>1029</td>\n",
       "      <td>1</td>\n",
       "    </tr>\n",
       "    <tr>\n",
       "      <th>3</th>\n",
       "      <td>1046</td>\n",
       "      <td>1</td>\n",
       "    </tr>\n",
       "    <tr>\n",
       "      <th>4</th>\n",
       "      <td>1049</td>\n",
       "      <td>1</td>\n",
       "    </tr>\n",
       "  </tbody>\n",
       "</table>\n",
       "</div>"
      ],
      "text/plain": [
       "   Customer  Frequency\n",
       "0      1011          2\n",
       "1      1025          1\n",
       "2      1029          1\n",
       "3      1046          1\n",
       "4      1049          1"
      ]
     },
     "execution_count": 8,
     "metadata": {},
     "output_type": "execute_result"
    }
   ],
   "source": [
    "df_frequency=df.drop_duplicates().groupby(by=['CustomerID'],as_index=False)['PurchaseDate'].count()\n",
    "df_frequency.columns=['Customer','Frequency']\n",
    "df_frequency.head(5)"
   ]
  },
  {
   "cell_type": "markdown",
   "id": "5213cc00-808a-4a5c-b6d0-8b05a5359b5f",
   "metadata": {},
   "source": [
    "### Calculating Monetary Value"
   ]
  },
  {
   "cell_type": "code",
   "execution_count": 12,
   "id": "7db18232-6c10-44de-87ab-52810307c8c4",
   "metadata": {},
   "outputs": [
    {
     "data": {
      "text/html": [
       "<div>\n",
       "<style scoped>\n",
       "    .dataframe tbody tr th:only-of-type {\n",
       "        vertical-align: middle;\n",
       "    }\n",
       "\n",
       "    .dataframe tbody tr th {\n",
       "        vertical-align: top;\n",
       "    }\n",
       "\n",
       "    .dataframe thead th {\n",
       "        text-align: right;\n",
       "    }\n",
       "</style>\n",
       "<table border=\"1\" class=\"dataframe\">\n",
       "  <thead>\n",
       "    <tr style=\"text-align: right;\">\n",
       "      <th></th>\n",
       "      <th>Customer</th>\n",
       "      <th>Monetary</th>\n",
       "    </tr>\n",
       "  </thead>\n",
       "  <tbody>\n",
       "    <tr>\n",
       "      <th>0</th>\n",
       "      <td>1011</td>\n",
       "      <td>1129.02</td>\n",
       "    </tr>\n",
       "    <tr>\n",
       "      <th>1</th>\n",
       "      <td>1025</td>\n",
       "      <td>359.29</td>\n",
       "    </tr>\n",
       "    <tr>\n",
       "      <th>2</th>\n",
       "      <td>1029</td>\n",
       "      <td>704.99</td>\n",
       "    </tr>\n",
       "    <tr>\n",
       "      <th>3</th>\n",
       "      <td>1046</td>\n",
       "      <td>859.82</td>\n",
       "    </tr>\n",
       "    <tr>\n",
       "      <th>4</th>\n",
       "      <td>1049</td>\n",
       "      <td>225.72</td>\n",
       "    </tr>\n",
       "  </tbody>\n",
       "</table>\n",
       "</div>"
      ],
      "text/plain": [
       "   Customer  Monetary\n",
       "0      1011   1129.02\n",
       "1      1025    359.29\n",
       "2      1029    704.99\n",
       "3      1046    859.82\n",
       "4      1049    225.72"
      ]
     },
     "execution_count": 12,
     "metadata": {},
     "output_type": "execute_result"
    }
   ],
   "source": [
    "df_monetary=df.groupby(by=['CustomerID'],as_index=False)['TransactionAmount'].sum()\n",
    "df_monetary.columns=['Customer','Monetary']\n",
    "df_monetary.head(5)"
   ]
  },
  {
   "cell_type": "markdown",
   "id": "49da7548-7636-40a6-83b6-41ec4d429177",
   "metadata": {},
   "source": [
    "### Merging all columns"
   ]
  },
  {
   "cell_type": "code",
   "execution_count": 13,
   "id": "25917517-8bf0-4968-94b4-e95c49c4c509",
   "metadata": {},
   "outputs": [
    {
     "data": {
      "text/html": [
       "<div>\n",
       "<style scoped>\n",
       "    .dataframe tbody tr th:only-of-type {\n",
       "        vertical-align: middle;\n",
       "    }\n",
       "\n",
       "    .dataframe tbody tr th {\n",
       "        vertical-align: top;\n",
       "    }\n",
       "\n",
       "    .dataframe thead th {\n",
       "        text-align: right;\n",
       "    }\n",
       "</style>\n",
       "<table border=\"1\" class=\"dataframe\">\n",
       "  <thead>\n",
       "    <tr style=\"text-align: right;\">\n",
       "      <th></th>\n",
       "      <th>Customer</th>\n",
       "      <th>Recency</th>\n",
       "      <th>Frequency</th>\n",
       "      <th>Monetary</th>\n",
       "    </tr>\n",
       "  </thead>\n",
       "  <tbody>\n",
       "    <tr>\n",
       "      <th>0</th>\n",
       "      <td>1011</td>\n",
       "      <td>33</td>\n",
       "      <td>2</td>\n",
       "      <td>1129.02</td>\n",
       "    </tr>\n",
       "    <tr>\n",
       "      <th>1</th>\n",
       "      <td>1025</td>\n",
       "      <td>21</td>\n",
       "      <td>1</td>\n",
       "      <td>359.29</td>\n",
       "    </tr>\n",
       "    <tr>\n",
       "      <th>2</th>\n",
       "      <td>1029</td>\n",
       "      <td>0</td>\n",
       "      <td>1</td>\n",
       "      <td>704.99</td>\n",
       "    </tr>\n",
       "    <tr>\n",
       "      <th>3</th>\n",
       "      <td>1046</td>\n",
       "      <td>43</td>\n",
       "      <td>1</td>\n",
       "      <td>859.82</td>\n",
       "    </tr>\n",
       "    <tr>\n",
       "      <th>4</th>\n",
       "      <td>1049</td>\n",
       "      <td>13</td>\n",
       "      <td>1</td>\n",
       "      <td>225.72</td>\n",
       "    </tr>\n",
       "  </tbody>\n",
       "</table>\n",
       "</div>"
      ],
      "text/plain": [
       "   Customer  Recency  Frequency  Monetary\n",
       "0      1011       33          2   1129.02\n",
       "1      1025       21          1    359.29\n",
       "2      1029        0          1    704.99\n",
       "3      1046       43          1    859.82\n",
       "4      1049       13          1    225.72"
      ]
     },
     "execution_count": 13,
     "metadata": {},
     "output_type": "execute_result"
    }
   ],
   "source": [
    "df_RF=df_recency.merge(df_frequency,on='Customer')\n",
    "df_RFM=df_RF.merge(df_monetary,on='Customer'). drop(columns='PurchaseDate')\n",
    "df_RFM.head(5)\n"
   ]
  },
  {
   "cell_type": "markdown",
   "id": "40fd6df5-40af-46b0-914b-3316c3d98798",
   "metadata": {},
   "source": [
    "### Ranking Customer’s based upon their recency, frequency, and monetary score"
   ]
  },
  {
   "cell_type": "code",
   "execution_count": 14,
   "id": "c36ebb35-07c4-48b2-b814-24c794e915b5",
   "metadata": {},
   "outputs": [
    {
     "data": {
      "text/html": [
       "<div>\n",
       "<style scoped>\n",
       "    .dataframe tbody tr th:only-of-type {\n",
       "        vertical-align: middle;\n",
       "    }\n",
       "\n",
       "    .dataframe tbody tr th {\n",
       "        vertical-align: top;\n",
       "    }\n",
       "\n",
       "    .dataframe thead th {\n",
       "        text-align: right;\n",
       "    }\n",
       "</style>\n",
       "<table border=\"1\" class=\"dataframe\">\n",
       "  <thead>\n",
       "    <tr style=\"text-align: right;\">\n",
       "      <th></th>\n",
       "      <th>Customer</th>\n",
       "      <th>Recency</th>\n",
       "      <th>Frequency</th>\n",
       "      <th>Monetary</th>\n",
       "      <th>R_rank_norm</th>\n",
       "      <th>F_rank_norm</th>\n",
       "      <th>M_rank_norm</th>\n",
       "    </tr>\n",
       "  </thead>\n",
       "  <tbody>\n",
       "    <tr>\n",
       "      <th>0</th>\n",
       "      <td>1011</td>\n",
       "      <td>33</td>\n",
       "      <td>2</td>\n",
       "      <td>1129.02</td>\n",
       "      <td>47.331910</td>\n",
       "      <td>97.301587</td>\n",
       "      <td>97.198732</td>\n",
       "    </tr>\n",
       "    <tr>\n",
       "      <th>1</th>\n",
       "      <td>1025</td>\n",
       "      <td>21</td>\n",
       "      <td>1</td>\n",
       "      <td>359.29</td>\n",
       "      <td>64.727855</td>\n",
       "      <td>47.407407</td>\n",
       "      <td>47.357294</td>\n",
       "    </tr>\n",
       "    <tr>\n",
       "      <th>2</th>\n",
       "      <td>1029</td>\n",
       "      <td>0</td>\n",
       "      <td>1</td>\n",
       "      <td>704.99</td>\n",
       "      <td>100.000000</td>\n",
       "      <td>47.407407</td>\n",
       "      <td>47.357294</td>\n",
       "    </tr>\n",
       "    <tr>\n",
       "      <th>3</th>\n",
       "      <td>1046</td>\n",
       "      <td>43</td>\n",
       "      <td>1</td>\n",
       "      <td>859.82</td>\n",
       "      <td>27.908218</td>\n",
       "      <td>47.407407</td>\n",
       "      <td>47.357294</td>\n",
       "    </tr>\n",
       "    <tr>\n",
       "      <th>4</th>\n",
       "      <td>1049</td>\n",
       "      <td>13</td>\n",
       "      <td>1</td>\n",
       "      <td>225.72</td>\n",
       "      <td>78.762006</td>\n",
       "      <td>47.407407</td>\n",
       "      <td>47.357294</td>\n",
       "    </tr>\n",
       "  </tbody>\n",
       "</table>\n",
       "</div>"
      ],
      "text/plain": [
       "   Customer  Recency  Frequency  Monetary  R_rank_norm  F_rank_norm  \\\n",
       "0      1011       33          2   1129.02    47.331910    97.301587   \n",
       "1      1025       21          1    359.29    64.727855    47.407407   \n",
       "2      1029        0          1    704.99   100.000000    47.407407   \n",
       "3      1046       43          1    859.82    27.908218    47.407407   \n",
       "4      1049       13          1    225.72    78.762006    47.407407   \n",
       "\n",
       "   M_rank_norm  \n",
       "0    97.198732  \n",
       "1    47.357294  \n",
       "2    47.357294  \n",
       "3    47.357294  \n",
       "4    47.357294  "
      ]
     },
     "execution_count": 14,
     "metadata": {},
     "output_type": "execute_result"
    }
   ],
   "source": [
    "df_RFM['R_rank'] = df_RFM['Recency'].rank(ascending=False)\n",
    "df_RFM['F_rank'] = df_RFM['Frequency'].rank(ascending=True)\n",
    "df_RFM['M_rank'] = df_RFM['Monetary'].rank(ascending=True)\n",
    " \n",
    "# Normalizing the rank of the customers\n",
    "df_RFM['R_rank_norm'] = (df_RFM['R_rank']/df_RFM['R_rank'].max())*100\n",
    "df_RFM['F_rank_norm'] = (df_RFM['F_rank']/df_RFM['F_rank'].max())*100\n",
    "df_RFM['M_rank_norm'] = (df_RFM['F_rank']/df_RFM['M_rank'].max())*100\n",
    " \n",
    "df_RFM.drop(columns=['R_rank', 'F_rank', 'M_rank'], inplace=True)\n",
    " \n",
    "df_RFM.head(5)\n"
   ]
  },
  {
   "cell_type": "markdown",
   "id": "4a2276f8-e41e-4a3f-9b79-9f6b23e05dc4",
   "metadata": {},
   "source": [
    "### Calculating RFM score"
   ]
  },
  {
   "cell_type": "code",
   "execution_count": 15,
   "id": "a44ef209-99cd-4302-a37c-9e14c67078d8",
   "metadata": {},
   "outputs": [
    {
     "data": {
      "text/html": [
       "<div>\n",
       "<style scoped>\n",
       "    .dataframe tbody tr th:only-of-type {\n",
       "        vertical-align: middle;\n",
       "    }\n",
       "\n",
       "    .dataframe tbody tr th {\n",
       "        vertical-align: top;\n",
       "    }\n",
       "\n",
       "    .dataframe thead th {\n",
       "        text-align: right;\n",
       "    }\n",
       "</style>\n",
       "<table border=\"1\" class=\"dataframe\">\n",
       "  <thead>\n",
       "    <tr style=\"text-align: right;\">\n",
       "      <th></th>\n",
       "      <th>Customer</th>\n",
       "      <th>RFM_Score</th>\n",
       "    </tr>\n",
       "  </thead>\n",
       "  <tbody>\n",
       "    <tr>\n",
       "      <th>0</th>\n",
       "      <td>1011</td>\n",
       "      <td>4.49</td>\n",
       "    </tr>\n",
       "    <tr>\n",
       "      <th>1</th>\n",
       "      <td>1025</td>\n",
       "      <td>2.50</td>\n",
       "    </tr>\n",
       "    <tr>\n",
       "      <th>2</th>\n",
       "      <td>1029</td>\n",
       "      <td>2.76</td>\n",
       "    </tr>\n",
       "    <tr>\n",
       "      <th>3</th>\n",
       "      <td>1046</td>\n",
       "      <td>2.22</td>\n",
       "    </tr>\n",
       "    <tr>\n",
       "      <th>4</th>\n",
       "      <td>1049</td>\n",
       "      <td>2.60</td>\n",
       "    </tr>\n",
       "  </tbody>\n",
       "</table>\n",
       "</div>"
      ],
      "text/plain": [
       "   Customer  RFM_Score\n",
       "0      1011       4.49\n",
       "1      1025       2.50\n",
       "2      1029       2.76\n",
       "3      1046       2.22\n",
       "4      1049       2.60"
      ]
     },
     "execution_count": 15,
     "metadata": {},
     "output_type": "execute_result"
    }
   ],
   "source": [
    "df_RFM['RFM_Score'] = 0.15*df_RFM['R_rank_norm']+0.28 * \\\n",
    "    df_RFM['F_rank_norm']+0.57*df_RFM['M_rank_norm']\n",
    "df_RFM['RFM_Score'] *= 0.05\n",
    "df_RFM=df_RFM.round(2)\n",
    "df_RFM[['Customer', 'RFM_Score']].head(5)"
   ]
  },
  {
   "cell_type": "markdown",
   "id": "14e5ccfe-1079-4354-a694-99ea24305d05",
   "metadata": {},
   "source": [
    "### Rating Customer based upon the RFM score"
   ]
  },
  {
   "cell_type": "code",
   "execution_count": 16,
   "id": "3aca2d85-4c27-4f18-bbe7-c4d7bb5d3845",
   "metadata": {},
   "outputs": [],
   "source": [
    "# rfm score >4.5 : Top Customer\n",
    "# 4.5 > rfm score > 4 : High Value Customer\n",
    "# 4>rfm score >3 : Medium value customer\n",
    "# 3>rfm score>1.6 : Low-value customer\n",
    "# rfm score<1.6 :Lost Customer"
   ]
  },
  {
   "cell_type": "code",
   "execution_count": 17,
   "id": "a6f41e46-8189-4c82-9abf-9eba26a21c87",
   "metadata": {},
   "outputs": [
    {
     "data": {
      "text/html": [
       "<div>\n",
       "<style scoped>\n",
       "    .dataframe tbody tr th:only-of-type {\n",
       "        vertical-align: middle;\n",
       "    }\n",
       "\n",
       "    .dataframe tbody tr th {\n",
       "        vertical-align: top;\n",
       "    }\n",
       "\n",
       "    .dataframe thead th {\n",
       "        text-align: right;\n",
       "    }\n",
       "</style>\n",
       "<table border=\"1\" class=\"dataframe\">\n",
       "  <thead>\n",
       "    <tr style=\"text-align: right;\">\n",
       "      <th></th>\n",
       "      <th>Customer</th>\n",
       "      <th>RFM_Score</th>\n",
       "      <th>Customer_segment</th>\n",
       "    </tr>\n",
       "  </thead>\n",
       "  <tbody>\n",
       "    <tr>\n",
       "      <th>0</th>\n",
       "      <td>1011</td>\n",
       "      <td>4.49</td>\n",
       "      <td>High value Customer</td>\n",
       "    </tr>\n",
       "    <tr>\n",
       "      <th>1</th>\n",
       "      <td>1025</td>\n",
       "      <td>2.50</td>\n",
       "      <td>Low Value Customers</td>\n",
       "    </tr>\n",
       "    <tr>\n",
       "      <th>2</th>\n",
       "      <td>1029</td>\n",
       "      <td>2.76</td>\n",
       "      <td>Low Value Customers</td>\n",
       "    </tr>\n",
       "    <tr>\n",
       "      <th>3</th>\n",
       "      <td>1046</td>\n",
       "      <td>2.22</td>\n",
       "      <td>Low Value Customers</td>\n",
       "    </tr>\n",
       "    <tr>\n",
       "      <th>4</th>\n",
       "      <td>1049</td>\n",
       "      <td>2.60</td>\n",
       "      <td>Low Value Customers</td>\n",
       "    </tr>\n",
       "  </tbody>\n",
       "</table>\n",
       "</div>"
      ],
      "text/plain": [
       "   Customer  RFM_Score     Customer_segment\n",
       "0      1011       4.49  High value Customer\n",
       "1      1025       2.50  Low Value Customers\n",
       "2      1029       2.76  Low Value Customers\n",
       "3      1046       2.22  Low Value Customers\n",
       "4      1049       2.60  Low Value Customers"
      ]
     },
     "execution_count": 17,
     "metadata": {},
     "output_type": "execute_result"
    }
   ],
   "source": [
    "df_RFM[\"Customer_segment\"] = np.where(df_RFM['RFM_Score'] >\n",
    "                                      4.5, \"Top Customers\", \n",
    "                                      (np.where(\n",
    "                                        df_RFM['RFM_Score'] > 4,\n",
    "                                        \"High value Customer\",\n",
    "                                        (np.where(\n",
    "   df_RFM['RFM_Score'] > 3,\n",
    "                             \"Medium Value Customer\",\n",
    "                             np.where(df_RFM['RFM_Score'] > 1.6, \n",
    "                            'Low Value Customers', 'Lost Customers'))))))\n",
    "df_RFM[['Customer', 'RFM_Score', 'Customer_segment']].head(5)"
   ]
  },
  {
   "cell_type": "markdown",
   "id": "32d49d49-5d35-413c-9cc9-a277f3c273f6",
   "metadata": {},
   "source": [
    "### Visualizing the customer segments"
   ]
  },
  {
   "cell_type": "code",
   "execution_count": 18,
   "id": "a08f927f-b466-4061-bd83-9f8d13d82111",
   "metadata": {},
   "outputs": [
    {
     "data": {
      "image/png": "[encoded data removed]",
      "text/plain": [
       "<Figure size 640x480 with 1 Axes>"
      ]
     },
     "metadata": {},
     "output_type": "display_data"
    }
   ],
   "source": [
    "plt.pie(df_RFM.Customer_segment.value_counts(),\n",
    "        labels=df_RFM.Customer_segment.value_counts().index,\n",
    "        autopct='%.0f%%')\n",
    "plt.show()"
   ]
  }
 ],
 "metadata": {
  "kernelspec": {
   "display_name": "Python 3 (ipykernel)",
   "language": "python",
   "name": "python3"
  },
  "language_info": {
   "codemirror_mode": {
    "name": "ipython",
    "version": 3
   },
   "file_extension": ".py",
   "mimetype": "text/x-python",
   "name": "python",
   "nbconvert_exporter": "python",
   "pygments_lexer": "ipython3",
   "version": "3.11.4"
  }
 },
 "nbformat": 4,
 "nbformat_minor": 5
}
